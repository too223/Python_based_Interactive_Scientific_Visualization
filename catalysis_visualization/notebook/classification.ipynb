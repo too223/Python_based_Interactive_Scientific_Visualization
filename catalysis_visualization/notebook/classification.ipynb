{
 "cells": [
  {
   "cell_type": "markdown",
   "source": [
    "# Import Libraries"
   ],
   "metadata": {}
  },
  {
   "cell_type": "code",
   "execution_count": 331,
   "source": [
    "import numpy as np\r\n",
    "import pandas as pd\r\n",
    "import matplotlib.pyplot as plt\r\n",
    "from bokeh.io import show\r\n",
    "from bokeh.models import ColumnDataSource, DataTable, TableColumn\r\n",
    "from sklearn.model_selection import train_test_split\r\n",
    "from sklearn.svm import SVC\r\n",
    "from sklearn.metrics import classification_report, confusion_matrix\r\n"
   ],
   "outputs": [],
   "metadata": {}
  },
  {
   "cell_type": "markdown",
   "source": [
    "# Import Dataset"
   ],
   "metadata": {}
  },
  {
   "cell_type": "code",
   "execution_count": 332,
   "source": [
    "df_catalysis_dataset = pd.read_csv(\"../data/OCM-data.csv\", index_col=0, header=0)\r\n",
    "print(df_catalysis_dataset['C2s'].nunique())\r\n"
   ],
   "outputs": [
    {
     "output_type": "stream",
     "name": "stdout",
     "text": [
      "6124\n"
     ]
    }
   ],
   "metadata": {}
  },
  {
   "cell_type": "code",
   "execution_count": 333,
   "source": [
    "\r\n",
    "class_sample_data = df_catalysis_dataset.sample(frac = 0.40,random_state=79)\r\n",
    "class_sample_data"
   ],
   "outputs": [
    {
     "output_type": "execute_result",
     "data": {
      "text/plain": [
       "                   M1  M1_atom_number    M2  M2_atom_number    M3  \\\n",
       "Name                                                                \n",
       "Mn-Li2MoO4/SiO2    Mn              25    Li               3    Mo   \n",
       "SiC              n.a.               0  n.a.               0  n.a.   \n",
       "Na2WO4/SiO2      n.a.               0    Na              11     W   \n",
       "Ce-Na2WO4/SiO2     Ce              58    Na              11     W   \n",
       "BEA              n.a.               0  n.a.               0  n.a.   \n",
       "...               ...             ...   ...             ...   ...   \n",
       "Mn-Na2WO4/BN       Mn              25    Na              11     W   \n",
       "Zn-Na2WO4/SiO2     Zn              30    Na              11     W   \n",
       "Pd-Na2WO4/SiO2     Pd              46    Na              11     W   \n",
       "Mn-WOx/SiO2        Mn              25  n.a.               0     W   \n",
       "Nb2O5            n.a.               0  n.a.               0  n.a.   \n",
       "\n",
       "                 M3_atom_number Support   Support_ID  M2_mol  M3_mol  ...  \\\n",
       "Name                                                                  ...   \n",
       "Mn-Li2MoO4/SiO2              42     SiO2          11    0.37   0.185  ...   \n",
       "SiC                           0      SiC           9    0.00   0.000  ...   \n",
       "Na2WO4/SiO2                  74     SiO2          11    0.37   0.185  ...   \n",
       "Ce-Na2WO4/SiO2               74     SiO2          11    0.37   0.185  ...   \n",
       "BEA                           0      BEA           3    0.00   0.000  ...   \n",
       "...                         ...      ...         ...     ...     ...  ...   \n",
       "Mn-Na2WO4/BN                 74       BN           4    0.37   0.185  ...   \n",
       "Zn-Na2WO4/SiO2               74     SiO2          11    0.37   0.185  ...   \n",
       "Pd-Na2WO4/SiO2               74     SiO2          11    0.37   0.185  ...   \n",
       "Mn-WOx/SiO2                  74     SiO2          11    0.00   0.185  ...   \n",
       "Nb2O5                         0    Nb2O5           8    0.00   0.000  ...   \n",
       "\n",
       "                   C2y  C2H6y  C2H4y    COy  CO2y    C2s  C2H6s  C2H4s    COs  \\\n",
       "Name                                                                            \n",
       "Mn-Li2MoO4/SiO2   1.33   1.17   0.16  18.25  9.42   4.22   3.71   0.51  57.84   \n",
       "SiC               6.02   0.82   5.20   7.87  1.37  56.16   7.65  48.51  73.41   \n",
       "Na2WO4/SiO2      15.48   4.52  10.96   1.16  7.01  63.36  18.50  44.86   4.75   \n",
       "Ce-Na2WO4/SiO2   10.90   4.21   6.69   2.04  2.87  67.53  26.08  41.45  12.64   \n",
       "BEA               5.93   0.65   5.28  13.37  2.00  35.90   3.93  31.96  80.93   \n",
       "...                ...    ...    ...    ...   ...    ...    ...    ...    ...   \n",
       "Mn-Na2WO4/BN      5.66   0.68   4.98  32.66  5.38  15.18   1.82  13.35  87.58   \n",
       "Zn-Na2WO4/SiO2    4.87   0.56   4.31  25.54  8.58  13.89   1.60  12.30  72.87   \n",
       "Pd-Na2WO4/SiO2    1.29   0.32   0.97   5.18  9.94  12.65   3.14   9.51  50.78   \n",
       "Mn-WOx/SiO2       5.92   0.51   5.41  16.92  1.90  23.93   2.06  21.87  68.39   \n",
       "Nb2O5             6.86   2.29   4.57   5.63  1.22  70.43  23.51  46.92  57.80   \n",
       "\n",
       "                  CO2s  \n",
       "Name                    \n",
       "Mn-Li2MoO4/SiO2  29.86  \n",
       "SiC              12.78  \n",
       "Na2WO4/SiO2      28.69  \n",
       "Ce-Na2WO4/SiO2   17.78  \n",
       "BEA              12.11  \n",
       "...                ...  \n",
       "Mn-Na2WO4/BN     14.43  \n",
       "Zn-Na2WO4/SiO2   24.48  \n",
       "Pd-Na2WO4/SiO2   97.45  \n",
       "Mn-WOx/SiO2       7.68  \n",
       "Nb2O5            12.53  \n",
       "\n",
       "[5083 rows x 31 columns]"
      ],
      "text/html": [
       "<div>\n",
       "<style scoped>\n",
       "    .dataframe tbody tr th:only-of-type {\n",
       "        vertical-align: middle;\n",
       "    }\n",
       "\n",
       "    .dataframe tbody tr th {\n",
       "        vertical-align: top;\n",
       "    }\n",
       "\n",
       "    .dataframe thead th {\n",
       "        text-align: right;\n",
       "    }\n",
       "</style>\n",
       "<table border=\"1\" class=\"dataframe\">\n",
       "  <thead>\n",
       "    <tr style=\"text-align: right;\">\n",
       "      <th></th>\n",
       "      <th>M1</th>\n",
       "      <th>M1_atom_number</th>\n",
       "      <th>M2</th>\n",
       "      <th>M2_atom_number</th>\n",
       "      <th>M3</th>\n",
       "      <th>M3_atom_number</th>\n",
       "      <th>Support</th>\n",
       "      <th>Support_ID</th>\n",
       "      <th>M2_mol</th>\n",
       "      <th>M3_mol</th>\n",
       "      <th>...</th>\n",
       "      <th>C2y</th>\n",
       "      <th>C2H6y</th>\n",
       "      <th>C2H4y</th>\n",
       "      <th>COy</th>\n",
       "      <th>CO2y</th>\n",
       "      <th>C2s</th>\n",
       "      <th>C2H6s</th>\n",
       "      <th>C2H4s</th>\n",
       "      <th>COs</th>\n",
       "      <th>CO2s</th>\n",
       "    </tr>\n",
       "    <tr>\n",
       "      <th>Name</th>\n",
       "      <th></th>\n",
       "      <th></th>\n",
       "      <th></th>\n",
       "      <th></th>\n",
       "      <th></th>\n",
       "      <th></th>\n",
       "      <th></th>\n",
       "      <th></th>\n",
       "      <th></th>\n",
       "      <th></th>\n",
       "      <th></th>\n",
       "      <th></th>\n",
       "      <th></th>\n",
       "      <th></th>\n",
       "      <th></th>\n",
       "      <th></th>\n",
       "      <th></th>\n",
       "      <th></th>\n",
       "      <th></th>\n",
       "      <th></th>\n",
       "      <th></th>\n",
       "    </tr>\n",
       "  </thead>\n",
       "  <tbody>\n",
       "    <tr>\n",
       "      <th>Mn-Li2MoO4/SiO2</th>\n",
       "      <td>Mn</td>\n",
       "      <td>25</td>\n",
       "      <td>Li</td>\n",
       "      <td>3</td>\n",
       "      <td>Mo</td>\n",
       "      <td>42</td>\n",
       "      <td>SiO2</td>\n",
       "      <td>11</td>\n",
       "      <td>0.37</td>\n",
       "      <td>0.185</td>\n",
       "      <td>...</td>\n",
       "      <td>1.33</td>\n",
       "      <td>1.17</td>\n",
       "      <td>0.16</td>\n",
       "      <td>18.25</td>\n",
       "      <td>9.42</td>\n",
       "      <td>4.22</td>\n",
       "      <td>3.71</td>\n",
       "      <td>0.51</td>\n",
       "      <td>57.84</td>\n",
       "      <td>29.86</td>\n",
       "    </tr>\n",
       "    <tr>\n",
       "      <th>SiC</th>\n",
       "      <td>n.a.</td>\n",
       "      <td>0</td>\n",
       "      <td>n.a.</td>\n",
       "      <td>0</td>\n",
       "      <td>n.a.</td>\n",
       "      <td>0</td>\n",
       "      <td>SiC</td>\n",
       "      <td>9</td>\n",
       "      <td>0.00</td>\n",
       "      <td>0.000</td>\n",
       "      <td>...</td>\n",
       "      <td>6.02</td>\n",
       "      <td>0.82</td>\n",
       "      <td>5.20</td>\n",
       "      <td>7.87</td>\n",
       "      <td>1.37</td>\n",
       "      <td>56.16</td>\n",
       "      <td>7.65</td>\n",
       "      <td>48.51</td>\n",
       "      <td>73.41</td>\n",
       "      <td>12.78</td>\n",
       "    </tr>\n",
       "    <tr>\n",
       "      <th>Na2WO4/SiO2</th>\n",
       "      <td>n.a.</td>\n",
       "      <td>0</td>\n",
       "      <td>Na</td>\n",
       "      <td>11</td>\n",
       "      <td>W</td>\n",
       "      <td>74</td>\n",
       "      <td>SiO2</td>\n",
       "      <td>11</td>\n",
       "      <td>0.37</td>\n",
       "      <td>0.185</td>\n",
       "      <td>...</td>\n",
       "      <td>15.48</td>\n",
       "      <td>4.52</td>\n",
       "      <td>10.96</td>\n",
       "      <td>1.16</td>\n",
       "      <td>7.01</td>\n",
       "      <td>63.36</td>\n",
       "      <td>18.50</td>\n",
       "      <td>44.86</td>\n",
       "      <td>4.75</td>\n",
       "      <td>28.69</td>\n",
       "    </tr>\n",
       "    <tr>\n",
       "      <th>Ce-Na2WO4/SiO2</th>\n",
       "      <td>Ce</td>\n",
       "      <td>58</td>\n",
       "      <td>Na</td>\n",
       "      <td>11</td>\n",
       "      <td>W</td>\n",
       "      <td>74</td>\n",
       "      <td>SiO2</td>\n",
       "      <td>11</td>\n",
       "      <td>0.37</td>\n",
       "      <td>0.185</td>\n",
       "      <td>...</td>\n",
       "      <td>10.90</td>\n",
       "      <td>4.21</td>\n",
       "      <td>6.69</td>\n",
       "      <td>2.04</td>\n",
       "      <td>2.87</td>\n",
       "      <td>67.53</td>\n",
       "      <td>26.08</td>\n",
       "      <td>41.45</td>\n",
       "      <td>12.64</td>\n",
       "      <td>17.78</td>\n",
       "    </tr>\n",
       "    <tr>\n",
       "      <th>BEA</th>\n",
       "      <td>n.a.</td>\n",
       "      <td>0</td>\n",
       "      <td>n.a.</td>\n",
       "      <td>0</td>\n",
       "      <td>n.a.</td>\n",
       "      <td>0</td>\n",
       "      <td>BEA</td>\n",
       "      <td>3</td>\n",
       "      <td>0.00</td>\n",
       "      <td>0.000</td>\n",
       "      <td>...</td>\n",
       "      <td>5.93</td>\n",
       "      <td>0.65</td>\n",
       "      <td>5.28</td>\n",
       "      <td>13.37</td>\n",
       "      <td>2.00</td>\n",
       "      <td>35.90</td>\n",
       "      <td>3.93</td>\n",
       "      <td>31.96</td>\n",
       "      <td>80.93</td>\n",
       "      <td>12.11</td>\n",
       "    </tr>\n",
       "    <tr>\n",
       "      <th>...</th>\n",
       "      <td>...</td>\n",
       "      <td>...</td>\n",
       "      <td>...</td>\n",
       "      <td>...</td>\n",
       "      <td>...</td>\n",
       "      <td>...</td>\n",
       "      <td>...</td>\n",
       "      <td>...</td>\n",
       "      <td>...</td>\n",
       "      <td>...</td>\n",
       "      <td>...</td>\n",
       "      <td>...</td>\n",
       "      <td>...</td>\n",
       "      <td>...</td>\n",
       "      <td>...</td>\n",
       "      <td>...</td>\n",
       "      <td>...</td>\n",
       "      <td>...</td>\n",
       "      <td>...</td>\n",
       "      <td>...</td>\n",
       "      <td>...</td>\n",
       "    </tr>\n",
       "    <tr>\n",
       "      <th>Mn-Na2WO4/BN</th>\n",
       "      <td>Mn</td>\n",
       "      <td>25</td>\n",
       "      <td>Na</td>\n",
       "      <td>11</td>\n",
       "      <td>W</td>\n",
       "      <td>74</td>\n",
       "      <td>BN</td>\n",
       "      <td>4</td>\n",
       "      <td>0.37</td>\n",
       "      <td>0.185</td>\n",
       "      <td>...</td>\n",
       "      <td>5.66</td>\n",
       "      <td>0.68</td>\n",
       "      <td>4.98</td>\n",
       "      <td>32.66</td>\n",
       "      <td>5.38</td>\n",
       "      <td>15.18</td>\n",
       "      <td>1.82</td>\n",
       "      <td>13.35</td>\n",
       "      <td>87.58</td>\n",
       "      <td>14.43</td>\n",
       "    </tr>\n",
       "    <tr>\n",
       "      <th>Zn-Na2WO4/SiO2</th>\n",
       "      <td>Zn</td>\n",
       "      <td>30</td>\n",
       "      <td>Na</td>\n",
       "      <td>11</td>\n",
       "      <td>W</td>\n",
       "      <td>74</td>\n",
       "      <td>SiO2</td>\n",
       "      <td>11</td>\n",
       "      <td>0.37</td>\n",
       "      <td>0.185</td>\n",
       "      <td>...</td>\n",
       "      <td>4.87</td>\n",
       "      <td>0.56</td>\n",
       "      <td>4.31</td>\n",
       "      <td>25.54</td>\n",
       "      <td>8.58</td>\n",
       "      <td>13.89</td>\n",
       "      <td>1.60</td>\n",
       "      <td>12.30</td>\n",
       "      <td>72.87</td>\n",
       "      <td>24.48</td>\n",
       "    </tr>\n",
       "    <tr>\n",
       "      <th>Pd-Na2WO4/SiO2</th>\n",
       "      <td>Pd</td>\n",
       "      <td>46</td>\n",
       "      <td>Na</td>\n",
       "      <td>11</td>\n",
       "      <td>W</td>\n",
       "      <td>74</td>\n",
       "      <td>SiO2</td>\n",
       "      <td>11</td>\n",
       "      <td>0.37</td>\n",
       "      <td>0.185</td>\n",
       "      <td>...</td>\n",
       "      <td>1.29</td>\n",
       "      <td>0.32</td>\n",
       "      <td>0.97</td>\n",
       "      <td>5.18</td>\n",
       "      <td>9.94</td>\n",
       "      <td>12.65</td>\n",
       "      <td>3.14</td>\n",
       "      <td>9.51</td>\n",
       "      <td>50.78</td>\n",
       "      <td>97.45</td>\n",
       "    </tr>\n",
       "    <tr>\n",
       "      <th>Mn-WOx/SiO2</th>\n",
       "      <td>Mn</td>\n",
       "      <td>25</td>\n",
       "      <td>n.a.</td>\n",
       "      <td>0</td>\n",
       "      <td>W</td>\n",
       "      <td>74</td>\n",
       "      <td>SiO2</td>\n",
       "      <td>11</td>\n",
       "      <td>0.00</td>\n",
       "      <td>0.185</td>\n",
       "      <td>...</td>\n",
       "      <td>5.92</td>\n",
       "      <td>0.51</td>\n",
       "      <td>5.41</td>\n",
       "      <td>16.92</td>\n",
       "      <td>1.90</td>\n",
       "      <td>23.93</td>\n",
       "      <td>2.06</td>\n",
       "      <td>21.87</td>\n",
       "      <td>68.39</td>\n",
       "      <td>7.68</td>\n",
       "    </tr>\n",
       "    <tr>\n",
       "      <th>Nb2O5</th>\n",
       "      <td>n.a.</td>\n",
       "      <td>0</td>\n",
       "      <td>n.a.</td>\n",
       "      <td>0</td>\n",
       "      <td>n.a.</td>\n",
       "      <td>0</td>\n",
       "      <td>Nb2O5</td>\n",
       "      <td>8</td>\n",
       "      <td>0.00</td>\n",
       "      <td>0.000</td>\n",
       "      <td>...</td>\n",
       "      <td>6.86</td>\n",
       "      <td>2.29</td>\n",
       "      <td>4.57</td>\n",
       "      <td>5.63</td>\n",
       "      <td>1.22</td>\n",
       "      <td>70.43</td>\n",
       "      <td>23.51</td>\n",
       "      <td>46.92</td>\n",
       "      <td>57.80</td>\n",
       "      <td>12.53</td>\n",
       "    </tr>\n",
       "  </tbody>\n",
       "</table>\n",
       "<p>5083 rows × 31 columns</p>\n",
       "</div>"
      ]
     },
     "metadata": {},
     "execution_count": 333
    }
   ],
   "metadata": {}
  },
  {
   "cell_type": "markdown",
   "source": [
    "# Define Variables"
   ],
   "metadata": {}
  },
  {
   "cell_type": "code",
   "execution_count": 334,
   "source": [
    "x = class_sample_data[[\"CH4_flow\", \"O2_flow\", \"CT\", \"M2_mol\", \"M3_mol\",\"Temp\"]]\r\n",
    "print(x)"
   ],
   "outputs": [
    {
     "output_type": "stream",
     "name": "stdout",
     "text": [
      "                 CH4_flow  O2_flow    CT  M2_mol  M3_mol  Temp\n",
      "Name                                                          \n",
      "Mn-Li2MoO4/SiO2       3.0      1.5  0.50    0.37   0.185   850\n",
      "SiC                   7.7      1.3  0.50    0.00   0.000   850\n",
      "Na2WO4/SiO2           2.4      0.6  0.75    0.37   0.185   800\n",
      "Ce-Na2WO4/SiO2        3.4      1.1  0.50    0.37   0.185   775\n",
      "BEA                   6.8      1.7  0.75    0.00   0.000   850\n",
      "...                   ...      ...   ...     ...     ...   ...\n",
      "Mn-Na2WO4/BN          4.0      2.0  0.75    0.37   0.185   900\n",
      "Zn-Na2WO4/SiO2        6.0      3.0  0.50    0.37   0.185   900\n",
      "Pd-Na2WO4/SiO2        7.2      1.8  0.50    0.37   0.185   900\n",
      "Mn-WOx/SiO2          13.6      3.4  0.38    0.00   0.185   900\n",
      "Nb2O5                13.6      3.4  0.38    0.00   0.000   750\n",
      "\n",
      "[5083 rows x 6 columns]\n"
     ]
    }
   ],
   "metadata": {}
  },
  {
   "cell_type": "code",
   "execution_count": 335,
   "source": [
    "# CH4_conv, C2y, COy\r\n",
    "class_sample_data['classifier'] = np.where(class_sample_data['C2s']>=50, 1, 0)\r\n",
    "y = class_sample_data[\"classifier\"]\r\n",
    "print(class_sample_data[[\"classifier\",\"C2s\"]])"
   ],
   "outputs": [
    {
     "output_type": "stream",
     "name": "stdout",
     "text": [
      "                 classifier    C2s\n",
      "Name                              \n",
      "Mn-Li2MoO4/SiO2           0   4.22\n",
      "SiC                       1  56.16\n",
      "Na2WO4/SiO2               1  63.36\n",
      "Ce-Na2WO4/SiO2            1  67.53\n",
      "BEA                       0  35.90\n",
      "...                     ...    ...\n",
      "Mn-Na2WO4/BN              0  15.18\n",
      "Zn-Na2WO4/SiO2            0  13.89\n",
      "Pd-Na2WO4/SiO2            0  12.65\n",
      "Mn-WOx/SiO2               0  23.93\n",
      "Nb2O5                     1  70.43\n",
      "\n",
      "[5083 rows x 2 columns]\n"
     ]
    }
   ],
   "metadata": {}
  },
  {
   "cell_type": "markdown",
   "source": [
    "# Split the dataset into training and test"
   ],
   "metadata": {}
  },
  {
   "cell_type": "code",
   "execution_count": 336,
   "source": [
    "X_train, X_test, y_train, y_test = train_test_split(x, y, test_size=0.2, random_state=0)\r\n",
    "X_test"
   ],
   "outputs": [
    {
     "output_type": "execute_result",
     "data": {
      "text/plain": [
       "                CH4_flow  O2_flow    CT  M2_mol  M3_mol  Temp\n",
       "Name                                                         \n",
       "Ce-Na2WO4/SiO2       2.4      0.6  0.75   0.370   0.185   750\n",
       "Mn-Na2WO4/SiC        4.0      2.0  0.38   0.370   0.185   850\n",
       "SiCnf                6.8      1.7  0.75   0.000   0.000   900\n",
       "Mn-Na2WO4/SiO2       4.0      2.0  0.75   0.370   0.185   800\n",
       "Al2O3                5.7      2.8  0.75   0.000   0.000   700\n",
       "...                  ...      ...   ...     ...     ...   ...\n",
       "Mn-FeMoO4/SiO2       7.2      1.8  0.50   0.185   0.185   850\n",
       "BEA                 10.9      1.8  0.50   0.000   0.000   700\n",
       "Mn-SrWO4/SiO2        2.0      1.0  0.75   0.185   0.185   775\n",
       "WOx/SiO2             2.4      0.6  0.75   0.000   0.185   700\n",
       "V-Na2WO4/SiO2        4.8      1.2  0.75   0.370   0.185   900\n",
       "\n",
       "[1017 rows x 6 columns]"
      ],
      "text/html": [
       "<div>\n",
       "<style scoped>\n",
       "    .dataframe tbody tr th:only-of-type {\n",
       "        vertical-align: middle;\n",
       "    }\n",
       "\n",
       "    .dataframe tbody tr th {\n",
       "        vertical-align: top;\n",
       "    }\n",
       "\n",
       "    .dataframe thead th {\n",
       "        text-align: right;\n",
       "    }\n",
       "</style>\n",
       "<table border=\"1\" class=\"dataframe\">\n",
       "  <thead>\n",
       "    <tr style=\"text-align: right;\">\n",
       "      <th></th>\n",
       "      <th>CH4_flow</th>\n",
       "      <th>O2_flow</th>\n",
       "      <th>CT</th>\n",
       "      <th>M2_mol</th>\n",
       "      <th>M3_mol</th>\n",
       "      <th>Temp</th>\n",
       "    </tr>\n",
       "    <tr>\n",
       "      <th>Name</th>\n",
       "      <th></th>\n",
       "      <th></th>\n",
       "      <th></th>\n",
       "      <th></th>\n",
       "      <th></th>\n",
       "      <th></th>\n",
       "    </tr>\n",
       "  </thead>\n",
       "  <tbody>\n",
       "    <tr>\n",
       "      <th>Ce-Na2WO4/SiO2</th>\n",
       "      <td>2.4</td>\n",
       "      <td>0.6</td>\n",
       "      <td>0.75</td>\n",
       "      <td>0.370</td>\n",
       "      <td>0.185</td>\n",
       "      <td>750</td>\n",
       "    </tr>\n",
       "    <tr>\n",
       "      <th>Mn-Na2WO4/SiC</th>\n",
       "      <td>4.0</td>\n",
       "      <td>2.0</td>\n",
       "      <td>0.38</td>\n",
       "      <td>0.370</td>\n",
       "      <td>0.185</td>\n",
       "      <td>850</td>\n",
       "    </tr>\n",
       "    <tr>\n",
       "      <th>SiCnf</th>\n",
       "      <td>6.8</td>\n",
       "      <td>1.7</td>\n",
       "      <td>0.75</td>\n",
       "      <td>0.000</td>\n",
       "      <td>0.000</td>\n",
       "      <td>900</td>\n",
       "    </tr>\n",
       "    <tr>\n",
       "      <th>Mn-Na2WO4/SiO2</th>\n",
       "      <td>4.0</td>\n",
       "      <td>2.0</td>\n",
       "      <td>0.75</td>\n",
       "      <td>0.370</td>\n",
       "      <td>0.185</td>\n",
       "      <td>800</td>\n",
       "    </tr>\n",
       "    <tr>\n",
       "      <th>Al2O3</th>\n",
       "      <td>5.7</td>\n",
       "      <td>2.8</td>\n",
       "      <td>0.75</td>\n",
       "      <td>0.000</td>\n",
       "      <td>0.000</td>\n",
       "      <td>700</td>\n",
       "    </tr>\n",
       "    <tr>\n",
       "      <th>...</th>\n",
       "      <td>...</td>\n",
       "      <td>...</td>\n",
       "      <td>...</td>\n",
       "      <td>...</td>\n",
       "      <td>...</td>\n",
       "      <td>...</td>\n",
       "    </tr>\n",
       "    <tr>\n",
       "      <th>Mn-FeMoO4/SiO2</th>\n",
       "      <td>7.2</td>\n",
       "      <td>1.8</td>\n",
       "      <td>0.50</td>\n",
       "      <td>0.185</td>\n",
       "      <td>0.185</td>\n",
       "      <td>850</td>\n",
       "    </tr>\n",
       "    <tr>\n",
       "      <th>BEA</th>\n",
       "      <td>10.9</td>\n",
       "      <td>1.8</td>\n",
       "      <td>0.50</td>\n",
       "      <td>0.000</td>\n",
       "      <td>0.000</td>\n",
       "      <td>700</td>\n",
       "    </tr>\n",
       "    <tr>\n",
       "      <th>Mn-SrWO4/SiO2</th>\n",
       "      <td>2.0</td>\n",
       "      <td>1.0</td>\n",
       "      <td>0.75</td>\n",
       "      <td>0.185</td>\n",
       "      <td>0.185</td>\n",
       "      <td>775</td>\n",
       "    </tr>\n",
       "    <tr>\n",
       "      <th>WOx/SiO2</th>\n",
       "      <td>2.4</td>\n",
       "      <td>0.6</td>\n",
       "      <td>0.75</td>\n",
       "      <td>0.000</td>\n",
       "      <td>0.185</td>\n",
       "      <td>700</td>\n",
       "    </tr>\n",
       "    <tr>\n",
       "      <th>V-Na2WO4/SiO2</th>\n",
       "      <td>4.8</td>\n",
       "      <td>1.2</td>\n",
       "      <td>0.75</td>\n",
       "      <td>0.370</td>\n",
       "      <td>0.185</td>\n",
       "      <td>900</td>\n",
       "    </tr>\n",
       "  </tbody>\n",
       "</table>\n",
       "<p>1017 rows × 6 columns</p>\n",
       "</div>"
      ]
     },
     "metadata": {},
     "execution_count": 336
    }
   ],
   "metadata": {}
  },
  {
   "cell_type": "code",
   "execution_count": 337,
   "source": [
    "y_test.value_counts()"
   ],
   "outputs": [
    {
     "output_type": "execute_result",
     "data": {
      "text/plain": [
       "0    734\n",
       "1    283\n",
       "Name: classifier, dtype: int64"
      ]
     },
     "metadata": {},
     "execution_count": 337
    }
   ],
   "metadata": {}
  },
  {
   "cell_type": "markdown",
   "source": [
    "# Train the model on training set"
   ],
   "metadata": {}
  },
  {
   "cell_type": "code",
   "execution_count": 338,
   "source": [
    "#Create a svm Classifier\r\n",
    "clf = SVC(kernel='linear') # Linear Kernel\r\n",
    "\r\n",
    "#Train the model using the training sets\r\n",
    "clf.fit(X_train, y_train)"
   ],
   "outputs": [
    {
     "output_type": "execute_result",
     "data": {
      "text/plain": [
       "SVC(kernel='linear')"
      ]
     },
     "metadata": {},
     "execution_count": 338
    }
   ],
   "metadata": {}
  },
  {
   "cell_type": "markdown",
   "source": [
    "# Predict"
   ],
   "metadata": {}
  },
  {
   "cell_type": "code",
   "execution_count": 339,
   "source": [
    "#Predict the response for test dataset\r\n",
    "y_pred = clf.predict(X_test)\r\n",
    "print(y_pred)"
   ],
   "outputs": [
    {
     "output_type": "stream",
     "name": "stdout",
     "text": [
      "[1 0 0 ... 0 0 0]\n"
     ]
    }
   ],
   "metadata": {}
  },
  {
   "cell_type": "markdown",
   "source": [
    "# Evaluate"
   ],
   "metadata": {}
  },
  {
   "cell_type": "code",
   "execution_count": 340,
   "source": [
    "tn, fp, fn, tp = confusion_matrix(y_test,y_pred).ravel()\r\n",
    "print(clf.score(X_test,y_test))\r\n",
    "(tn, fp, fn, tp) # true negatives, false positives, false negatives , true positives"
   ],
   "outputs": [
    {
     "output_type": "stream",
     "name": "stdout",
     "text": [
      "0.7738446411012783\n"
     ]
    },
    {
     "output_type": "execute_result",
     "data": {
      "text/plain": [
       "(658, 76, 154, 129)"
      ]
     },
     "metadata": {},
     "execution_count": 340
    }
   ],
   "metadata": {}
  },
  {
   "cell_type": "code",
   "execution_count": 341,
   "source": [
    "plt.figure(figsize=(15, 10))\r\n",
    "plt.scatter(class_sample_data[\"CH4_conv\"], class_sample_data[\"Temp\"],c = class_sample_data[\"classifier\"], cmap = 'Accent')\r\n",
    "plt.xlabel(\"CH4\")\r\n",
    "plt.ylabel(\"Temperature\")\r\n",
    "plt.title(\"ch4 vs temp\")"
   ],
   "outputs": [
    {
     "output_type": "execute_result",
     "data": {
      "text/plain": [
       "Text(0.5, 1.0, 'ch4 vs temp')"
      ]
     },
     "metadata": {},
     "execution_count": 341
    },
    {
     "output_type": "display_data",
     "data": {
      "text/plain": [
       "<Figure size 1080x720 with 1 Axes>"
      ],
      "image/png": "[encoded data removed]"
     },
     "metadata": {
      "needs_background": "light"
     }
    }
   ],
   "metadata": {}
  },
  {
   "cell_type": "markdown",
   "source": [
    "# HyperPlane"
   ],
   "metadata": {}
  },
  {
   "cell_type": "code",
   "execution_count": 342,
   "source": [
    "# Get the separating hyperplane (Only works with Linear Kernels)\r\n",
    "w = clf.coef_[0]\r\n",
    "a = -w[0] / w[1]\r\n",
    "xx = np.linspace(30, 60)\r\n",
    "yy = a * xx - (clf.intercept_[0]) / w[1]\r\n",
    "\r\n",
    "# Plot the parallels to the separating hyperplane that pass through the support vectors\r\n",
    "b = clf.support_vectors_[0]\r\n",
    "yy_down = a * xx + (b[1] - a * b[0])\r\n",
    "b = clf.support_vectors_[-1]\r\n",
    "yy_up = a * xx + (b[1] - a * b[0])"
   ],
   "outputs": [],
   "metadata": {}
  },
  {
   "cell_type": "code",
   "execution_count": 343,
   "source": [
    "plt.figure(figsize=(15, 10))\r\n",
    "plt.scatter(class_sample_data[\"Temp\"], class_sample_data[\"CT\"],c = class_sample_data[\"classifier\"], cmap = 'Accent')\r\n",
    "plt.xlabel(\"CH4\")\r\n",
    "plt.ylabel(\"Temperature\")\r\n",
    "plt.title(\"ch4 vs temp\")\r\n",
    "plt.plot(xx, yy, linewidth=2, color='black')\r\n",
    "plt.plot(xx, yy_down, 'k--')\r\n",
    "plt.plot(xx, yy_up, 'k--')\r\n",
    "plt.scatter(clf.support_vectors_[:, 1], clf.support_vectors_[:, 2],\r\n",
    "            s=80, facecolors='none');"
   ],
   "outputs": [
    {
     "output_type": "display_data",
     "data": {
      "text/plain": [
       "<Figure size 1080x720 with 1 Axes>"
      ],
      "image/png": "[encoded data removed]"
     },
     "metadata": {
      "needs_background": "light"
     }
    }
   ],
   "metadata": {}
  },
  {
   "cell_type": "markdown",
   "source": [
    "# Method for Decision Boundaries"
   ],
   "metadata": {}
  },
  {
   "cell_type": "code",
   "execution_count": 344,
   "source": [],
   "outputs": [],
   "metadata": {}
  }
 ],
 "metadata": {
  "kernelspec": {
   "name": "python3",
   "display_name": "Python 3.8.8 64-bit ('base': conda)"
  },
  "language_info": {
   "codemirror_mode": {
    "name": "ipython",
    "version": 3
   },
   "file_extension": ".py",
   "mimetype": "text/x-python",
   "name": "python",
   "nbconvert_exporter": "python",
   "pygments_lexer": "ipython3",
   "version": "3.8.8"
  },
  "interpreter": {
   "hash": "785c8b4d335925bbf77f030e28baf966bf3dd09aad93ee31c74ab9dffef22c30"
  }
 },
 "nbformat": 4,
 "nbformat_minor": 4
}